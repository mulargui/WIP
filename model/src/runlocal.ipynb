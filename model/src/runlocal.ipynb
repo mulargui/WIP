{
 "cells": [
  {
   "cell_type": "code",
   "execution_count": null,
   "metadata": {},
   "outputs": [],
   "source": [
    "%%sh\n",
    "pip -q install sagemaker awscli boto3 tensorflow keras --upgrade \n",
    "# Where to save the model\n",
    "SM_MODEL_DIR='../../model-registry'\n",
    "# Where the dataset is\n",
    "SM_DATASET_DIR='../../data'"
   ]
  },
  {
   "cell_type": "code",
   "execution_count": null,
   "metadata": {},
   "outputs": [],
   "source": [
    "%run runlocal.py"
   ]
  }
 ],
 "metadata": {
  "language_info": {
   "name": "python"
  },
  "orig_nbformat": 4
 },
 "nbformat": 4,
 "nbformat_minor": 2
}
