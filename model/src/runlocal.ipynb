{
 "cells": [
  {
   "cell_type": "code",
   "execution_count": null,
   "metadata": {},
   "outputs": [],
   "source": [
    "%%sh\n",
    "pip -q install sagemaker awscli boto3 tensorflow keras --upgrade \n",
    "# Where to save the model\n",
    "%env SM_MODEL_DIR='../../model-registry'\n",
    "# Where the dataset is\n",
    "%env SM_DATASET_DIR='../../data'"
   ]
  },
  {
   "cell_type": "code",
   "execution_count": null,
   "metadata": {},
   "outputs": [],
   "source": [
    "python3 runlocal.py"
   ]
  }
 ],
 "metadata": {
  "language_info": {
   "name": "python"
  },
  "orig_nbformat": 4
 },
 "nbformat": 4,
 "nbformat_minor": 2
}
