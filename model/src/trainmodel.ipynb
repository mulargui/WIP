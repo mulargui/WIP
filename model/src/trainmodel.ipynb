{
 "cells": [
  {
   "cell_type": "code",
   "execution_count": null,
   "metadata": {
    "vscode": {
     "languageId": "shellscript"
    }
   },
   "outputs": [],
   "source": [
    "#train locally\n",
    "\n",
    "%%sh\n",
    "#install packages\n",
    "pip -q install --upgrade pip\n",
    "pip -q install sagemaker awscli boto3 tensorflow keras scikit-learn --upgrade \n",
    "\n",
    "# Absolute path to this file\n",
    "SCRIPT=$(readlink -f \"$0\")\n",
    "export REPOPATH=$(dirname \"$SCRIPT\" | sed 's/\\/model\\/src//g')\n",
    "\n",
    "#paths to model registry and training data\n",
    "export SM_MODEL_DIR=$REPOPATH/model-registry\n",
    "export SM_CHANNEL_TRAINING=$REPOPATH/data\n",
    "\n",
    "#train locally\n",
    "python3 main.py"
   ]
  },
  {
   "cell_type": "code",
   "execution_count": null,
   "metadata": {
    "vscode": {
     "languageId": "shellscript"
    }
   },
   "outputs": [],
   "source": [
    "#train inside a container, not completed\n",
    "#docker run -ti -v /home/ulargm:/ulargm tensorflow/tensorflow\n",
    "python3 main.py"
   ]
  },
  {
   "cell_type": "code",
   "execution_count": null,
   "metadata": {
    "vscode": {
     "languageId": "shellscript"
    }
   },
   "outputs": [],
   "source": [
    "#train in sagemaker\n",
    "python3 trainmodel.py local"
   ]
  }
 ],
 "metadata": {
  "language_info": {
   "name": "python"
  },
  "orig_nbformat": 4
 },
 "nbformat": 4,
 "nbformat_minor": 2
}
