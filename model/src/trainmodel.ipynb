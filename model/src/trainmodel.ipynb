{
 "cells": [
  {
   "cell_type": "code",
   "execution_count": null,
   "metadata": {
    "vscode": {
     "languageId": "shellscript"
    }
   },
   "outputs": [],
   "source": [
    "%%sh\n",
    "#train locally\n",
    "docker run -ti -v $PWD:/WIP tensorflow/tensorflow /bin/bash /WIP/model/src/trainlocal.sh"
   ]
  },
  {
   "cell_type": "code",
   "execution_count": null,
   "metadata": {
    "vscode": {
     "languageId": "shellscript"
    }
   },
   "outputs": [],
   "source": [
    "%%sh\n",
    "#train locally using sagemaker, not completed\n",
    "#docker run -ti -v /home/ulargm:/ulargm tensorflow/tensorflow\n",
    "\n",
    "#install packages\n",
    "pip install --upgrade pip\n",
    "pip install --upgrade pandas scikit-learn 'sagemaker[local]'\n",
    "pip install -q --upgrade sagemaker awscli boto3 tensorflow keras scikit-learn\n",
    "\n",
    "#AWS region to use\n",
    "export AWS_DEFAULT_REGION=us-east-1\n",
    "\n",
    "python3 trainmodel.py local"
   ]
  },
  {
   "cell_type": "code",
   "execution_count": null,
   "metadata": {
    "vscode": {
     "languageId": "shellscript"
    }
   },
   "outputs": [],
   "source": [
    "%%sh\n",
    "#train in sagemaker\n",
    "python3 trainmodel.py"
   ]
  }
 ],
 "metadata": {
  "language_info": {
   "name": "python"
  },
  "orig_nbformat": 4
 },
 "nbformat": 4,
 "nbformat_minor": 2
}
