{
 "cells": [
  {
   "cell_type": "code",
   "execution_count": null,
   "metadata": {
    "vscode": {
     "languageId": "shellscript"
    }
   },
   "outputs": [],
   "source": [
    "%%sh\n",
    "#train locally\n",
    "#docker run -ti -v /home/ulargm:/ulargm tensorflow/tensorflow\n",
    "\n",
    "#install packages\n",
    "pip install -q --upgrade pip\n",
    "pip install -q --upgrade pandas scikit-learn\n",
    "\n",
    "# Absolute path to this file\n",
    "SCRIPT=$(readlink -f \"$0\")\n",
    "export REPOPATH=$(dirname \"$SCRIPT\" | sed 's/\\/model\\/src//g')\n",
    "\n",
    "#paths to model registry and training data\n",
    "export SM_MODEL_DIR=$REPOPATH/model-registry\n",
    "export SM_CHANNEL_TRAINING=$REPOPATH/data\n",
    "\n",
    "#train locally\n",
    "python3 main.py"
   ]
  },
  {
   "cell_type": "code",
   "execution_count": null,
   "metadata": {
    "vscode": {
     "languageId": "shellscript"
    }
   },
   "outputs": [],
   "source": [
    "%%sh\n",
    "#train locally using sagemaker, not completed\n",
    "#docker run -ti -v /home/ulargm:/ulargm tensorflow/tensorflow\n",
    "\n",
    "#install packages\n",
    "pip install -q --upgrade pip\n",
    "pip install -q --upgrade pandas scikit-learn 'sagemaker[local]'\n",
    "pip install -q --upgrade sagemaker awscli boto3 tensorflow keras scikit-learn\n",
    "\n",
    "#AWS region to use\n",
    "export AWS_DEFAULT_REGION=us-east-1\n",
    "\n",
    "python3 trainmodel.py local"
   ]
  },
  {
   "cell_type": "code",
   "execution_count": null,
   "metadata": {
    "vscode": {
     "languageId": "shellscript"
    }
   },
   "outputs": [],
   "source": [
    "%%sh\n",
    "#train in sagemaker\n",
    "python3 trainmodel.py"
   ]
  }
 ],
 "metadata": {
  "language_info": {
   "name": "python"
  },
  "orig_nbformat": 4
 },
 "nbformat": 4,
 "nbformat_minor": 2
}
