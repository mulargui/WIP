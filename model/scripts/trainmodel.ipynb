{
 "cells": [
  {
   "cell_type": "code",
   "execution_count": null,
   "metadata": {
    "vscode": {
     "languageId": "shellscript"
    }
   },
   "outputs": [],
   "source": [
    "%%sh\n",
    "#train locally\n",
    "docker run -ti -v $PWD:/WIP tensorflow/tensorflow /bin/bash /WIP/model/scripts/trainlocal.sh"
   ]
  },
  {
   "cell_type": "code",
   "execution_count": null,
   "metadata": {
    "vscode": {
     "languageId": "shellscript"
    }
   },
   "outputs": [],
   "source": [
    "%%sh\n",
    "#train locally using sagemaker\n",
    "docker run -ti -v $PWD:/WIP tensorflow/tensorflow /bin/bash /WIP/model/scripts/trainsglocal.sh"
   ]
  },
  {
   "cell_type": "code",
   "execution_count": null,
   "metadata": {
    "vscode": {
     "languageId": "shellscript"
    }
   },
   "outputs": [],
   "source": [
    "%%sh\n",
    "#train in sagemaker\n",
    "docker run -ti -v $PWD:/WIP tensorflow/tensorflow /bin/bash /WIP/model/scripts/trainmodel.sh"
   ]
  }
 ],
 "metadata": {
  "language_info": {
   "name": "python"
  },
  "orig_nbformat": 4
 },
 "nbformat": 4,
 "nbformat_minor": 2
}
